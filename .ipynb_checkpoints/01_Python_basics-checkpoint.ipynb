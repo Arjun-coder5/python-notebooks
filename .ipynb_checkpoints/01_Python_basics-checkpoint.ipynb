{
 "cells": [
  {
   "cell_type": "code",
   "execution_count": 1,
   "id": "208b50cd-6934-428d-8249-4cfff167f074",
   "metadata": {},
   "outputs": [],
   "source": [
    "a = 5"
   ]
  },
  {
   "cell_type": "code",
   "execution_count": 2,
   "id": "361a8b54-5d98-44ee-99ed-f1f210adf3a1",
   "metadata": {},
   "outputs": [],
   "source": [
    "c = 6\n"
   ]
  },
  {
   "cell_type": "code",
   "execution_count": 3,
   "id": "afa1a5c3-b6b8-4e7f-95cf-d3765c161d25",
   "metadata": {},
   "outputs": [
    {
     "data": {
      "text/plain": [
       "11"
      ]
     },
     "execution_count": 3,
     "metadata": {},
     "output_type": "execute_result"
    }
   ],
   "source": [
    "a+c"
   ]
  },
  {
   "cell_type": "code",
   "execution_count": 4,
   "id": "ffb5d171-853d-4ab4-a115-a594289032cb",
   "metadata": {},
   "outputs": [],
   "source": [
    "name = \"Arjun\"\n"
   ]
  },
  {
   "cell_type": "code",
   "execution_count": 7,
   "id": "92f4807f-112a-4d3c-bed1-ba50d863f98b",
   "metadata": {},
   "outputs": [
    {
     "name": "stdout",
     "output_type": "stream",
     "text": [
      "Hello world\n"
     ]
    }
   ],
   "source": [
    "print(\"Hello world\")#This will print helllo world on the screen"
   ]
  },
  {
   "cell_type": "code",
   "execution_count": 9,
   "id": "d855ee22-6a0a-405a-b038-6ea91c1bff45",
   "metadata": {},
   "outputs": [],
   "source": [
    "# This is comment"
   ]
  },
  {
   "cell_type": "code",
   "execution_count": 11,
   "id": "bce21211-605c-45e6-b801-a0e68c8791d7",
   "metadata": {},
   "outputs": [
    {
     "name": "stdout",
     "output_type": "stream",
     "text": [
      "<class 'int'>\n"
     ]
    }
   ],
   "source": [
    "print(type(a))"
   ]
  },
  {
   "cell_type": "code",
   "execution_count": 13,
   "id": "e398f1e3-1910-4edf-93a8-214fee72bb39",
   "metadata": {},
   "outputs": [
    {
     "name": "stdout",
     "output_type": "stream",
     "text": [
      "<class 'str'>\n"
     ]
    }
   ],
   "source": [
    "print(type(name))"
   ]
  },
  {
   "cell_type": "code",
   "execution_count": 15,
   "id": "540c5a81-5c1a-400b-af07-afda94f23f7f",
   "metadata": {},
   "outputs": [
    {
     "data": {
      "text/plain": [
       "str"
      ]
     },
     "execution_count": 15,
     "metadata": {},
     "output_type": "execute_result"
    }
   ],
   "source": [
    "type(name)"
   ]
  },
  {
   "cell_type": "code",
   "execution_count": 16,
   "id": "360af080-a144-4a03-b97d-e3bbe223e3d4",
   "metadata": {},
   "outputs": [],
   "source": [
    "a = \"5\""
   ]
  },
  {
   "cell_type": "code",
   "execution_count": 17,
   "id": "6ea111aa-2ddf-4a9e-b4f0-23b765b2a44b",
   "metadata": {},
   "outputs": [],
   "source": [
    "b = \"5\""
   ]
  },
  {
   "cell_type": "code",
   "execution_count": 19,
   "id": "04de8719-f24f-4f70-90b1-bca87e8b2224",
   "metadata": {},
   "outputs": [
    {
     "data": {
      "text/plain": [
       "'55'"
      ]
     },
     "execution_count": 19,
     "metadata": {},
     "output_type": "execute_result"
    }
   ],
   "source": [
    "a+b"
   ]
  },
  {
   "cell_type": "code",
   "execution_count": 22,
   "id": "d41a6ab2-7ea3-4265-8ccc-433bd00aed66",
   "metadata": {},
   "outputs": [
    {
     "data": {
      "text/plain": [
       "10"
      ]
     },
     "execution_count": 22,
     "metadata": {},
     "output_type": "execute_result"
    }
   ],
   "source": [
    "int(a)+int(b)#Typecasting"
   ]
  }
 ],
 "metadata": {
  "kernelspec": {
   "display_name": "Python [conda env:base] *",
   "language": "python",
   "name": "conda-base-py"
  },
  "language_info": {
   "codemirror_mode": {
    "name": "ipython",
    "version": 3
   },
   "file_extension": ".py",
   "mimetype": "text/x-python",
   "name": "python",
   "nbconvert_exporter": "python",
   "pygments_lexer": "ipython3",
   "version": "3.12.7"
  }
 },
 "nbformat": 4,
 "nbformat_minor": 5
}
