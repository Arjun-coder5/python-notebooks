a = 5


c = 6



a+c


name = "Arjun"



print("Hello world")#This will print helllo world on the screen


# This is comment


print(type(a))


print(type(name))


type(name)


a = "5"


b = "5"


a+b


int(a)+int(b)#Typecasting
