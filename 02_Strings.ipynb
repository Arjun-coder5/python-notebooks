{
 "cells": [
  {
   "cell_type": "code",
   "execution_count": 5,
   "id": "2514265d-f92b-43fd-b32a-9d24548bab5a",
   "metadata": {
    "jupyter": {
     "source_hidden": true
    }
   },
   "outputs": [],
   "source": [
    "name = \"Arjun\""
   ]
  },
  {
   "cell_type": "code",
   "execution_count": 17,
   "id": "a28f4743-2f8a-4d72-8508-f51977735a29",
   "metadata": {},
   "outputs": [
    {
     "data": {
      "text/plain": [
       "'Arjun'"
      ]
     },
     "execution_count": 17,
     "metadata": {},
     "output_type": "execute_result"
    }
   ],
   "source": [
    "name"
   ]
  },
  {
   "cell_type": "code",
   "execution_count": 18,
   "id": "df104911-5b65-4c6e-8efb-bca442a9ea42",
   "metadata": {},
   "outputs": [
    {
     "data": {
      "text/plain": [
       "'ARJUN'"
      ]
     },
     "execution_count": 18,
     "metadata": {},
     "output_type": "execute_result"
    }
   ],
   "source": [
    "name.upper()"
   ]
  },
  {
   "cell_type": "code",
   "execution_count": null,
   "id": "1e36efcf-1c29-491d-a0b1-d40e1ca57c27",
   "metadata": {},
   "outputs": [],
   "source": []
  },
  {
   "cell_type": "code",
   "execution_count": 19,
   "id": "993de579-215d-408c-8056-e742d118c980",
   "metadata": {},
   "outputs": [
    {
     "data": {
      "text/plain": [
       "True"
      ]
     },
     "execution_count": 19,
     "metadata": {},
     "output_type": "execute_result"
    }
   ],
   "source": [
    "name.endswith(\"un\")"
   ]
  },
  {
   "cell_type": "code",
   "execution_count": 9,
   "id": "a0f83b51-8937-4484-82a5-0d56582d9150",
   "metadata": {},
   "outputs": [
    {
     "data": {
      "text/plain": [
       "False"
      ]
     },
     "execution_count": 9,
     "metadata": {},
     "output_type": "execute_result"
    }
   ],
   "source": [
    "name.endswith(\"ok\")"
   ]
  },
  {
   "cell_type": "code",
   "execution_count": 12,
   "id": "6730ea43-e0c5-466f-b3f9-cfd46a0e008f",
   "metadata": {},
   "outputs": [
    {
     "data": {
      "text/plain": [
       "'arjun'"
      ]
     },
     "execution_count": 12,
     "metadata": {},
     "output_type": "execute_result"
    }
   ],
   "source": [
    "name.lower()"
   ]
  },
  {
   "cell_type": "code",
   "execution_count": 13,
   "id": "5df61268-9890-4be3-8e03-7fb8b54cefb1",
   "metadata": {},
   "outputs": [
    {
     "data": {
      "text/plain": [
       "0"
      ]
     },
     "execution_count": 13,
     "metadata": {},
     "output_type": "execute_result"
    }
   ],
   "source": [
    "name.count(\"a\")"
   ]
  },
  {
   "cell_type": "code",
   "execution_count": 14,
   "id": "7cba5852-21f2-414e-8c5f-8d5a8cb1e11a",
   "metadata": {},
   "outputs": [
    {
     "name": "stdout",
     "output_type": "stream",
     "text": [
      "5\n"
     ]
    }
   ],
   "source": [
    "text = \"Hello\"\n",
    "print(len(text))  # Output: 5\n",
    "\n"
   ]
  },
  {
   "cell_type": "code",
   "execution_count": 15,
   "id": "4003fa92-0203-4f18-803d-058174360462",
   "metadata": {},
   "outputs": [
    {
     "name": "stdout",
     "output_type": "stream",
     "text": [
      "bonono\n"
     ]
    }
   ],
   "source": [
    "text = \"banana\"\n",
    "print(text.replace(\"a\", \"o\"))  # Output: \"bonono\"\n"
   ]
  },
  {
   "cell_type": "code",
   "execution_count": 16,
   "id": "787983a3-7862-44e3-8971-692a36fae07e",
   "metadata": {},
   "outputs": [
    {
     "name": "stdout",
     "output_type": "stream",
     "text": [
      "hello world\n"
     ]
    }
   ],
   "source": [
    "text = \"  hello world  \"\n",
    "print(text.strip())  # Output: \"hello world\"\n"
   ]
  },
  {
   "cell_type": "code",
   "execution_count": 21,
   "id": "e6344291-5d8b-4fca-8945-14d4b9a1896a",
   "metadata": {},
   "outputs": [
    {
     "data": {
      "text/plain": [
       "' hello world '"
      ]
     },
     "execution_count": 21,
     "metadata": {},
     "output_type": "execute_result"
    }
   ],
   "source": [
    "text[1:-1]"
   ]
  },
  {
   "cell_type": "code",
   "execution_count": null,
   "id": "8c835643-d63c-4e11-8af1-2ed9a26a7940",
   "metadata": {},
   "outputs": [],
   "source": []
  }
 ],
 "metadata": {
  "kernelspec": {
   "display_name": "Python [conda env:base] *",
   "language": "python",
   "name": "conda-base-py"
  },
  "language_info": {
   "codemirror_mode": {
    "name": "ipython",
    "version": 3
   },
   "file_extension": ".py",
   "mimetype": "text/x-python",
   "name": "python",
   "nbconvert_exporter": "python",
   "pygments_lexer": "ipython3",
   "version": "3.12.7"
  }
 },
 "nbformat": 4,
 "nbformat_minor": 5
}
